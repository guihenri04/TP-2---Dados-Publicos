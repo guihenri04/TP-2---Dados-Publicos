{
 "cells": [
  {
   "cell_type": "code",
   "execution_count": 27,
   "metadata": {},
   "outputs": [
    {
     "name": "stdout",
     "output_type": "stream",
     "text": [
      "Encoding detectado: ascii\n"
     ]
    }
   ],
   "source": [
    "#DETECTAR \n",
    "\n",
    "import chardet\n",
    "\n",
    "# Caminho para o arquivo CSV\n",
    "file_path = 'acessos_ano.csv'\n",
    "\n",
    "# Ler o início do arquivo para detectar o encoding\n",
    "with open(file_path, 'rb') as f:\n",
    "    raw_data = f.read(10000)\n",
    "    result = chardet.detect(raw_data)\n",
    "\n",
    "# Imprimir o resultado\n",
    "print(f\"Encoding detectado: {result['encoding']}\")\n"
   ]
  },
  {
   "cell_type": "code",
   "execution_count": 14,
   "metadata": {},
   "outputs": [],
   "source": [
    "#IMPLEMENTAR COLUNA ANO\n",
    "\n",
    "import csv\n",
    "\n",
    "# Nome do arquivo CSV original\n",
    "arquivo_original = \"2022.csv\"\n",
    "\n",
    "# Nome do novo arquivo CSV com a coluna adicionada\n",
    "arquivo_novo = \"2022_anos.csv\"\n",
    "\n",
    "# Ano a ser adicionado\n",
    "ano = 2022\n",
    "\n",
    "# Abre o arquivo original para leitura e o novo arquivo para escrita\n",
    "with open(arquivo_original, \"r\", newline=\"\", encoding='latin-1') as csvfile, \\\n",
    "     open(arquivo_novo, \"w\", newline=\"\") as new_csvfile:\n",
    "\n",
    "    # Cria um leitor e um escritor CSV\n",
    "    leitor = csv.reader(csvfile, delimiter=\";\")\n",
    "    escritor = csv.writer(new_csvfile, delimiter=\";\")\n",
    "\n",
    "    # Lê a primeira linha (cabeçalho) e adiciona a coluna \"ano\"\n",
    "    cabecalho = next(leitor)\n",
    "    cabecalho.append(\"ano\")\n",
    "    escritor.writerow(cabecalho)\n",
    "\n",
    "    # Itera sobre as demais linhas, adicionando o ano\n",
    "    for linha in leitor:\n",
    "        linha.append(ano)\n",
    "        escritor.writerow(linha)\n"
   ]
  },
  {
   "cell_type": "code",
   "execution_count": 23,
   "metadata": {},
   "outputs": [
    {
     "name": "stdout",
     "output_type": "stream",
     "text": [
      "Arquivo consolidado salvo em output_anual_estado7.csv\n"
     ]
    }
   ],
   "source": [
    "import pandas as pd\n",
    "\n",
    "# Defina o caminho para o seu arquivo CSV original\n",
    "file_path = 'acessos_banda_larga_fixa/Acessos_Banda_Larga_Fixa_2022.csv'\n",
    "\n",
    "# Leitura do arquivo CSV original\n",
    "df = pd.read_csv(file_path, sep=';')\n",
    "\n",
    "# Filtrando apenas as linhas onde o mês é 12\n",
    "df_december = df[df['Mês'] == 12]\n",
    "\n",
    "# Removendo as colunas relacionadas aos municípios\n",
    "df_december = df_december.drop(columns=['Mês', 'Município', 'Grupo Econômico', 'Código IBGE Município', 'Empresa', 'CNPJ', 'Porte da Prestadora', 'Faixa de Velocidade', 'Tecnologia', 'Meio de Acesso'])\n",
    "\n",
    "# Agrupamento por ano e estado, somando os acessos\n",
    "df_grouped = df_december.groupby(['Ano', 'UF'])['Acessos'].sum().reset_index()\n",
    "\n",
    "# Salvando o resultado em um novo CSV\n",
    "output_file_path = 'output_anual_estado7.csv'\n",
    "df_grouped.to_csv(output_file_path, index=False, sep=';')\n",
    "\n",
    "print(f\"Arquivo consolidado salvo em {output_file_path}\")\n",
    "\n"
   ]
  },
  {
   "cell_type": "code",
   "execution_count": 24,
   "metadata": {},
   "outputs": [
    {
     "name": "stdout",
     "output_type": "stream",
     "text": [
      "Arquivo combinado salvo em acessos_ano.csv\n"
     ]
    }
   ],
   "source": [
    "import pandas as pd\n",
    "import os\n",
    "\n",
    "# Defina o caminho para a pasta contendo os arquivos CSV\n",
    "folder_path = 'outputs'\n",
    "\n",
    "# Listar todos os arquivos CSV na pasta\n",
    "csv_files = [file for file in os.listdir(folder_path) if file.endswith('.csv')]\n",
    "\n",
    "# Inicializar uma lista para armazenar os DataFrames\n",
    "df_list = []\n",
    "\n",
    "# Loop através dos arquivos CSV e ler cada um em um DataFrame\n",
    "for file in csv_files:\n",
    "    file_path = os.path.join(folder_path, file)\n",
    "    df = pd.read_csv(file_path, sep=';')  # Ajuste o separador se necessário\n",
    "    df_list.append(df)\n",
    "\n",
    "# Concatenar todos os DataFrames em um único DataFrame\n",
    "df_combined = pd.concat(df_list, ignore_index=True)\n",
    "\n",
    "# Salvando o DataFrame combinado em um novo arquivo CSV\n",
    "output_file_path = 'acessos_ano.csv'\n",
    "df_combined.to_csv(output_file_path, index=False, sep=';')\n",
    "\n",
    "print(f\"Arquivo combinado salvo em {output_file_path}\")\n"
   ]
  }
 ],
 "metadata": {
  "kernelspec": {
   "display_name": "Python 3",
   "language": "python",
   "name": "python3"
  },
  "language_info": {
   "codemirror_mode": {
    "name": "ipython",
    "version": 3
   },
   "file_extension": ".py",
   "mimetype": "text/x-python",
   "name": "python",
   "nbconvert_exporter": "python",
   "pygments_lexer": "ipython3",
   "version": "3.11.9"
  }
 },
 "nbformat": 4,
 "nbformat_minor": 2
}
