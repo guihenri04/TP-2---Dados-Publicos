{
 "cells": [
  {
   "cell_type": "code",
   "execution_count": 5,
   "metadata": {},
   "outputs": [
    {
     "name": "stdout",
     "output_type": "stream",
     "text": [
      "Encoding detectado: utf-8\n"
     ]
    }
   ],
   "source": [
    "import chardet\n",
    "\n",
    "# Caminho para o arquivo CSV\n",
    "file_path = 'df_eleicoes.csv'\n",
    "\n",
    "# Ler o início do arquivo para detectar o encoding\n",
    "with open(file_path, 'rb') as f:\n",
    "    raw_data = f.read(10000)\n",
    "    result = chardet.detect(raw_data)\n",
    "\n",
    "# Imprimir o resultado\n",
    "print(f\"Encoding detectado: {result['encoding']}\")\n"
   ]
  },
  {
   "cell_type": "code",
   "execution_count": 14,
   "metadata": {},
   "outputs": [],
   "source": [
    "import csv\n",
    "\n",
    "# Nome do arquivo CSV original\n",
    "arquivo_original = \"2022.csv\"\n",
    "\n",
    "# Nome do novo arquivo CSV com a coluna adicionada\n",
    "arquivo_novo = \"2022_anos.csv\"\n",
    "\n",
    "# Ano a ser adicionado\n",
    "ano = 2022\n",
    "\n",
    "# Abre o arquivo original para leitura e o novo arquivo para escrita\n",
    "with open(arquivo_original, \"r\", newline=\"\", encoding='latin-1') as csvfile, \\\n",
    "     open(arquivo_novo, \"w\", newline=\"\") as new_csvfile:\n",
    "\n",
    "    # Cria um leitor e um escritor CSV\n",
    "    leitor = csv.reader(csvfile, delimiter=\";\")\n",
    "    escritor = csv.writer(new_csvfile, delimiter=\";\")\n",
    "\n",
    "    # Lê a primeira linha (cabeçalho) e adiciona a coluna \"ano\"\n",
    "    cabecalho = next(leitor)\n",
    "    cabecalho.append(\"ano\")\n",
    "    escritor.writerow(cabecalho)\n",
    "\n",
    "    # Itera sobre as demais linhas, adicionando o ano\n",
    "    for linha in leitor:\n",
    "        linha.append(ano)\n",
    "        escritor.writerow(linha)\n"
   ]
  },
  {
   "cell_type": "code",
   "execution_count": 15,
   "metadata": {},
   "outputs": [],
   "source": [
    "import pandas as pd\n",
    "\n",
    "# Lista com os nomes dos arquivos CSV a serem unidos\n",
    "arquivos_csv = [\"2002_anos.csv\", \"2006_anos.csv\", \"2010_anos.csv\", \"2014_anos.csv\", \"2018_anos.csv\", \"2022_anos.csv\"]\n",
    "\n",
    "# Lê todos os arquivos CSV em uma lista de DataFrames\n",
    "dfs = [pd.read_csv(arquivo, delimiter=\";\", encoding='latin-1') for arquivo in arquivos_csv]\n",
    "\n",
    "# Concatena todos os DataFrames em um único DataFrame\n",
    "df_unificado = pd.concat(dfs, ignore_index=True)\n",
    "\n",
    "# Salva o DataFrame unificado em um novo arquivo CSV\n",
    "df_unificado.to_csv(\"dados_eleicoes_unificados.csv\", sep=\";\", index=False)\n"
   ]
  }
 ],
 "metadata": {
  "kernelspec": {
   "display_name": "Python 3",
   "language": "python",
   "name": "python3"
  },
  "language_info": {
   "codemirror_mode": {
    "name": "ipython",
    "version": 3
   },
   "file_extension": ".py",
   "mimetype": "text/x-python",
   "name": "python",
   "nbconvert_exporter": "python",
   "pygments_lexer": "ipython3",
   "version": "3.11.9"
  }
 },
 "nbformat": 4,
 "nbformat_minor": 2
}
